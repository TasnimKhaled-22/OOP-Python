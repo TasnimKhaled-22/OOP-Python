{
  "nbformat": 4,
  "nbformat_minor": 0,
  "metadata": {
    "colab": {
      "provenance": [],
      "authorship_tag": "ABX9TyPEQoy6xQByE8vKYV7lumnF",
      "include_colab_link": true
    },
    "kernelspec": {
      "name": "python3",
      "display_name": "Python 3"
    },
    "language_info": {
      "name": "python"
    }
  },
  "cells": [
    {
      "cell_type": "markdown",
      "metadata": {
        "id": "view-in-github",
        "colab_type": "text"
      },
      "source": [
        "<a href=\"https://colab.research.google.com/github/TasnimKhaled-22/OOP-Python/blob/main/Session2.ipynb\" target=\"_parent\"><img src=\"https://colab.research.google.com/assets/colab-badge.svg\" alt=\"Open In Colab\"/></a>"
      ]
    },
    {
      "cell_type": "markdown",
      "source": [
        "**Python OOP**"
      ],
      "metadata": {
        "id": "zzWjTWl6Kmkt"
      }
    },
    {
      "cell_type": "code",
      "source": [
        "class Animal:\n",
        "\n",
        "    def eat(self):\n",
        "        print( \"I can eat!\")\n",
        "\n",
        "    def sleep(self):\n",
        "        print(\"I can sleep!\")\n",
        "\n",
        "# derived class\n",
        "class Dog(Animal):\n",
        "\n",
        "    def bark(self):\n",
        "        print(\"I can bark! woof woof!!\")\n",
        "\n",
        "# Create object of the Dog class\n",
        "dog1 = Dog()\n",
        "\n",
        "# Calling members of the base class\n",
        "dog1.eat()\n",
        "dog1.sleep()\n",
        "\n",
        "# Calling member of the derived class\n",
        "dog1.bark();\n",
        "\n",
        "# derived class\n",
        "class Cat(Animal):\n",
        "\n",
        "    def meow(self):\n",
        "        print(\"I can meow! meow meow !!\")\n",
        "\n",
        "# Create object of the cat class\n",
        "cat1 = Cat()\n",
        "\n",
        "# Calling members of the base class\n",
        "cat1.eat()\n",
        "cat1.sleep()\n",
        "\n",
        "# Calling member of the derived class\n",
        "cat1.meow();\n",
        "\n",
        "\n"
      ],
      "metadata": {
        "colab": {
          "base_uri": "https://localhost:8080/"
        },
        "id": "lxhr3WmjpEWz",
        "outputId": "ef440f49-6e78-4add-8347-22f3a25257b0"
      },
      "execution_count": 23,
      "outputs": [
        {
          "output_type": "stream",
          "name": "stdout",
          "text": [
            "I can eat!\n",
            "I can sleep!\n",
            "I can bark! woof woof!!\n",
            "I can eat!\n",
            "I can sleep!\n",
            "I can meow! meow meow !!\n"
          ]
        }
      ]
    }
  ]
}